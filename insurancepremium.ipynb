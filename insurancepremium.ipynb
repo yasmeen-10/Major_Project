{
 "cells": [
  {
   "cell_type": "code",
   "execution_count": 1,
   "id": "fff069e0-78d3-45bf-83a5-03af19257b05",
   "metadata": {},
   "outputs": [],
   "source": [
    "import pandas as pd\n"
   ]
  },
  {
   "cell_type": "code",
   "execution_count": 2,
   "id": "2b089e3a-8403-4f2c-9244-b1b4a5ab8bb3",
   "metadata": {},
   "outputs": [],
   "source": [
    "import seaborn as sns\n"
   ]
  },
  {
   "cell_type": "code",
   "execution_count": 3,
   "id": "a5e2e1d0-47d0-4cd6-a222-e7b01ac343c1",
   "metadata": {},
   "outputs": [],
   "source": [
    "import numpy as np\n",
    "import pandas as pd\n",
    "import seaborn as sns\n",
    "import matplotlib as pt\n",
    "import warnings\n",
    "warnings.filterwarnings(\"ignore\")"
   ]
  },
  {
   "cell_type": "code",
   "execution_count": 4,
   "id": "66eb4ac9-d1cf-4a95-8007-24b4e5861a9d",
   "metadata": {},
   "outputs": [],
   "source": [
    "df=pd.read_csv(\"insurance.csv\")"
   ]
  },
  {
   "cell_type": "code",
   "execution_count": 5,
   "id": "c7440eaf-7977-4b52-bb19-748281ebc17c",
   "metadata": {},
   "outputs": [
    {
     "data": {
      "text/html": [
       "<div>\n",
       "<style scoped>\n",
       "    .dataframe tbody tr th:only-of-type {\n",
       "        vertical-align: middle;\n",
       "    }\n",
       "\n",
       "    .dataframe tbody tr th {\n",
       "        vertical-align: top;\n",
       "    }\n",
       "\n",
       "    .dataframe thead th {\n",
       "        text-align: right;\n",
       "    }\n",
       "</style>\n",
       "<table border=\"1\" class=\"dataframe\">\n",
       "  <thead>\n",
       "    <tr style=\"text-align: right;\">\n",
       "      <th></th>\n",
       "      <th>age</th>\n",
       "      <th>sex</th>\n",
       "      <th>bmi</th>\n",
       "      <th>children</th>\n",
       "      <th>smoker</th>\n",
       "      <th>region</th>\n",
       "      <th>charges</th>\n",
       "    </tr>\n",
       "  </thead>\n",
       "  <tbody>\n",
       "    <tr>\n",
       "      <th>0</th>\n",
       "      <td>19</td>\n",
       "      <td>female</td>\n",
       "      <td>27.900</td>\n",
       "      <td>0</td>\n",
       "      <td>yes</td>\n",
       "      <td>southwest</td>\n",
       "      <td>16884.92400</td>\n",
       "    </tr>\n",
       "    <tr>\n",
       "      <th>1</th>\n",
       "      <td>18</td>\n",
       "      <td>male</td>\n",
       "      <td>33.770</td>\n",
       "      <td>1</td>\n",
       "      <td>no</td>\n",
       "      <td>southeast</td>\n",
       "      <td>1725.55230</td>\n",
       "    </tr>\n",
       "    <tr>\n",
       "      <th>2</th>\n",
       "      <td>28</td>\n",
       "      <td>male</td>\n",
       "      <td>33.000</td>\n",
       "      <td>3</td>\n",
       "      <td>no</td>\n",
       "      <td>southeast</td>\n",
       "      <td>4449.46200</td>\n",
       "    </tr>\n",
       "    <tr>\n",
       "      <th>3</th>\n",
       "      <td>33</td>\n",
       "      <td>male</td>\n",
       "      <td>22.705</td>\n",
       "      <td>0</td>\n",
       "      <td>no</td>\n",
       "      <td>northwest</td>\n",
       "      <td>21984.47061</td>\n",
       "    </tr>\n",
       "    <tr>\n",
       "      <th>4</th>\n",
       "      <td>32</td>\n",
       "      <td>male</td>\n",
       "      <td>28.880</td>\n",
       "      <td>0</td>\n",
       "      <td>no</td>\n",
       "      <td>northwest</td>\n",
       "      <td>3866.85520</td>\n",
       "    </tr>\n",
       "    <tr>\n",
       "      <th>...</th>\n",
       "      <td>...</td>\n",
       "      <td>...</td>\n",
       "      <td>...</td>\n",
       "      <td>...</td>\n",
       "      <td>...</td>\n",
       "      <td>...</td>\n",
       "      <td>...</td>\n",
       "    </tr>\n",
       "    <tr>\n",
       "      <th>1333</th>\n",
       "      <td>50</td>\n",
       "      <td>male</td>\n",
       "      <td>30.970</td>\n",
       "      <td>3</td>\n",
       "      <td>no</td>\n",
       "      <td>northwest</td>\n",
       "      <td>10600.54830</td>\n",
       "    </tr>\n",
       "    <tr>\n",
       "      <th>1334</th>\n",
       "      <td>18</td>\n",
       "      <td>female</td>\n",
       "      <td>31.920</td>\n",
       "      <td>0</td>\n",
       "      <td>no</td>\n",
       "      <td>northeast</td>\n",
       "      <td>2205.98080</td>\n",
       "    </tr>\n",
       "    <tr>\n",
       "      <th>1335</th>\n",
       "      <td>18</td>\n",
       "      <td>female</td>\n",
       "      <td>36.850</td>\n",
       "      <td>0</td>\n",
       "      <td>no</td>\n",
       "      <td>southeast</td>\n",
       "      <td>1629.83350</td>\n",
       "    </tr>\n",
       "    <tr>\n",
       "      <th>1336</th>\n",
       "      <td>21</td>\n",
       "      <td>female</td>\n",
       "      <td>25.800</td>\n",
       "      <td>0</td>\n",
       "      <td>no</td>\n",
       "      <td>southwest</td>\n",
       "      <td>2007.94500</td>\n",
       "    </tr>\n",
       "    <tr>\n",
       "      <th>1337</th>\n",
       "      <td>61</td>\n",
       "      <td>female</td>\n",
       "      <td>29.070</td>\n",
       "      <td>0</td>\n",
       "      <td>yes</td>\n",
       "      <td>northwest</td>\n",
       "      <td>29141.36030</td>\n",
       "    </tr>\n",
       "  </tbody>\n",
       "</table>\n",
       "<p>1338 rows × 7 columns</p>\n",
       "</div>"
      ],
      "text/plain": [
       "      age     sex     bmi  children smoker     region      charges\n",
       "0      19  female  27.900         0    yes  southwest  16884.92400\n",
       "1      18    male  33.770         1     no  southeast   1725.55230\n",
       "2      28    male  33.000         3     no  southeast   4449.46200\n",
       "3      33    male  22.705         0     no  northwest  21984.47061\n",
       "4      32    male  28.880         0     no  northwest   3866.85520\n",
       "...   ...     ...     ...       ...    ...        ...          ...\n",
       "1333   50    male  30.970         3     no  northwest  10600.54830\n",
       "1334   18  female  31.920         0     no  northeast   2205.98080\n",
       "1335   18  female  36.850         0     no  southeast   1629.83350\n",
       "1336   21  female  25.800         0     no  southwest   2007.94500\n",
       "1337   61  female  29.070         0    yes  northwest  29141.36030\n",
       "\n",
       "[1338 rows x 7 columns]"
      ]
     },
     "execution_count": 5,
     "metadata": {},
     "output_type": "execute_result"
    }
   ],
   "source": [
    "df"
   ]
  },
  {
   "cell_type": "code",
   "execution_count": 6,
   "id": "75a3df2b-13f9-4f75-b3d1-92c21963fe06",
   "metadata": {},
   "outputs": [
    {
     "name": "stdout",
     "output_type": "stream",
     "text": [
      "<class 'pandas.core.frame.DataFrame'>\n",
      "RangeIndex: 1338 entries, 0 to 1337\n",
      "Data columns (total 7 columns):\n",
      " #   Column    Non-Null Count  Dtype  \n",
      "---  ------    --------------  -----  \n",
      " 0   age       1338 non-null   int64  \n",
      " 1   sex       1338 non-null   object \n",
      " 2   bmi       1338 non-null   float64\n",
      " 3   children  1338 non-null   int64  \n",
      " 4   smoker    1338 non-null   object \n",
      " 5   region    1338 non-null   object \n",
      " 6   charges   1338 non-null   float64\n",
      "dtypes: float64(2), int64(2), object(3)\n",
      "memory usage: 73.3+ KB\n"
     ]
    }
   ],
   "source": [
    "df.info()"
   ]
  },
  {
   "cell_type": "code",
   "execution_count": 7,
   "id": "d7cdb241-432c-4c78-be56-93e2fdaa4cbd",
   "metadata": {},
   "outputs": [
    {
     "data": {
      "text/html": [
       "<div>\n",
       "<style scoped>\n",
       "    .dataframe tbody tr th:only-of-type {\n",
       "        vertical-align: middle;\n",
       "    }\n",
       "\n",
       "    .dataframe tbody tr th {\n",
       "        vertical-align: top;\n",
       "    }\n",
       "\n",
       "    .dataframe thead th {\n",
       "        text-align: right;\n",
       "    }\n",
       "</style>\n",
       "<table border=\"1\" class=\"dataframe\">\n",
       "  <thead>\n",
       "    <tr style=\"text-align: right;\">\n",
       "      <th></th>\n",
       "      <th>age</th>\n",
       "      <th>bmi</th>\n",
       "      <th>children</th>\n",
       "      <th>charges</th>\n",
       "    </tr>\n",
       "  </thead>\n",
       "  <tbody>\n",
       "    <tr>\n",
       "      <th>count</th>\n",
       "      <td>1338.000000</td>\n",
       "      <td>1338.000000</td>\n",
       "      <td>1338.000000</td>\n",
       "      <td>1338.000000</td>\n",
       "    </tr>\n",
       "    <tr>\n",
       "      <th>mean</th>\n",
       "      <td>39.207025</td>\n",
       "      <td>30.663397</td>\n",
       "      <td>1.094918</td>\n",
       "      <td>13270.422265</td>\n",
       "    </tr>\n",
       "    <tr>\n",
       "      <th>std</th>\n",
       "      <td>14.049960</td>\n",
       "      <td>6.098187</td>\n",
       "      <td>1.205493</td>\n",
       "      <td>12110.011237</td>\n",
       "    </tr>\n",
       "    <tr>\n",
       "      <th>min</th>\n",
       "      <td>18.000000</td>\n",
       "      <td>15.960000</td>\n",
       "      <td>0.000000</td>\n",
       "      <td>1121.873900</td>\n",
       "    </tr>\n",
       "    <tr>\n",
       "      <th>25%</th>\n",
       "      <td>27.000000</td>\n",
       "      <td>26.296250</td>\n",
       "      <td>0.000000</td>\n",
       "      <td>4740.287150</td>\n",
       "    </tr>\n",
       "    <tr>\n",
       "      <th>50%</th>\n",
       "      <td>39.000000</td>\n",
       "      <td>30.400000</td>\n",
       "      <td>1.000000</td>\n",
       "      <td>9382.033000</td>\n",
       "    </tr>\n",
       "    <tr>\n",
       "      <th>75%</th>\n",
       "      <td>51.000000</td>\n",
       "      <td>34.693750</td>\n",
       "      <td>2.000000</td>\n",
       "      <td>16639.912515</td>\n",
       "    </tr>\n",
       "    <tr>\n",
       "      <th>max</th>\n",
       "      <td>64.000000</td>\n",
       "      <td>53.130000</td>\n",
       "      <td>5.000000</td>\n",
       "      <td>63770.428010</td>\n",
       "    </tr>\n",
       "  </tbody>\n",
       "</table>\n",
       "</div>"
      ],
      "text/plain": [
       "               age          bmi     children       charges\n",
       "count  1338.000000  1338.000000  1338.000000   1338.000000\n",
       "mean     39.207025    30.663397     1.094918  13270.422265\n",
       "std      14.049960     6.098187     1.205493  12110.011237\n",
       "min      18.000000    15.960000     0.000000   1121.873900\n",
       "25%      27.000000    26.296250     0.000000   4740.287150\n",
       "50%      39.000000    30.400000     1.000000   9382.033000\n",
       "75%      51.000000    34.693750     2.000000  16639.912515\n",
       "max      64.000000    53.130000     5.000000  63770.428010"
      ]
     },
     "execution_count": 7,
     "metadata": {},
     "output_type": "execute_result"
    }
   ],
   "source": [
    "df.describe()"
   ]
  },
  {
   "cell_type": "code",
   "execution_count": 8,
   "id": "ef2eb483-5047-43e9-883f-4cf53fd46f04",
   "metadata": {},
   "outputs": [
    {
     "data": {
      "text/plain": [
       "age         0\n",
       "sex         0\n",
       "bmi         0\n",
       "children    0\n",
       "smoker      0\n",
       "region      0\n",
       "charges     0\n",
       "dtype: int64"
      ]
     },
     "execution_count": 8,
     "metadata": {},
     "output_type": "execute_result"
    }
   ],
   "source": [
    "df.isnull().sum()"
   ]
  },
  {
   "cell_type": "code",
   "execution_count": 9,
   "id": "a11e0330-da5a-49fe-b888-d2cd330ad739",
   "metadata": {},
   "outputs": [
    {
     "data": {
      "text/plain": [
       "smoker\n",
       "no     1064\n",
       "yes     274\n",
       "Name: count, dtype: int64"
      ]
     },
     "execution_count": 9,
     "metadata": {},
     "output_type": "execute_result"
    }
   ],
   "source": [
    "df['smoker'].value_counts()"
   ]
  },
  {
   "cell_type": "code",
   "execution_count": 10,
   "id": "25c90644-2510-4de9-9015-c402b65c5260",
   "metadata": {},
   "outputs": [
    {
     "data": {
      "text/plain": [
       "children\n",
       "0    574\n",
       "1    324\n",
       "2    240\n",
       "3    157\n",
       "4     25\n",
       "5     18\n",
       "Name: count, dtype: int64"
      ]
     },
     "execution_count": 10,
     "metadata": {},
     "output_type": "execute_result"
    }
   ],
   "source": [
    "df['children'].value_counts()"
   ]
  },
  {
   "cell_type": "code",
   "execution_count": 11,
   "id": "03890de5-da9b-45af-aa34-d860b95b6f04",
   "metadata": {},
   "outputs": [],
   "source": [
    "df.drop_duplicates(inplace=True)"
   ]
  },
  {
   "cell_type": "code",
   "execution_count": 12,
   "id": "aec6318e-f8b8-468f-ac0e-6b7b57e36d33",
   "metadata": {},
   "outputs": [
    {
     "data": {
      "text/plain": [
       "region\n",
       "southeast    364\n",
       "southwest    325\n",
       "northwest    324\n",
       "northeast    324\n",
       "Name: count, dtype: int64"
      ]
     },
     "execution_count": 12,
     "metadata": {},
     "output_type": "execute_result"
    }
   ],
   "source": [
    "df['region'].value_counts()"
   ]
  },
  {
   "cell_type": "code",
   "execution_count": 13,
   "id": "5507b8ea-2476-421f-8e73-5f50a2467c89",
   "metadata": {},
   "outputs": [
    {
     "data": {
      "text/plain": [
       "<Axes: ylabel='age'>"
      ]
     },
     "execution_count": 13,
     "metadata": {},
     "output_type": "execute_result"
    },
    {
     "data": {
      "image/png": "[encoded data removed]",
      "text/plain": [
       "<Figure size 640x480 with 1 Axes>"
      ]
     },
     "metadata": {},
     "output_type": "display_data"
    }
   ],
   "source": [
    "sns.boxplot(df['age'])"
   ]
  },
  {
   "cell_type": "code",
   "execution_count": 14,
   "id": "6d7dce99-e360-4a43-8945-c387359cfe0e",
   "metadata": {},
   "outputs": [
    {
     "data": {
      "text/plain": [
       "<Axes: ylabel='bmi'>"
      ]
     },
     "execution_count": 14,
     "metadata": {},
     "output_type": "execute_result"
    },
    {
     "data": {
      "image/png": "[encoded data removed]",
      "text/plain": [
       "<Figure size 640x480 with 1 Axes>"
      ]
     },
     "metadata": {},
     "output_type": "display_data"
    }
   ],
   "source": [
    "sns.boxplot(df['bmi'])"
   ]
  },
  {
   "cell_type": "code",
   "execution_count": 15,
   "id": "9f9bab84-5759-49ae-8f67-6f012765ff4f",
   "metadata": {},
   "outputs": [
    {
     "name": "stdout",
     "output_type": "stream",
     "text": [
      "13.674999999999994\n",
      "47.31500000000001\n"
     ]
    }
   ],
   "source": [
    "Q1=df['bmi'].quantile(0.25)\n",
    "Q2=df['bmi'].quantile(0.5)\n",
    "Q3=df['bmi'].quantile(0.75)\n",
    "iqr=Q3-Q1\n",
    "lowlim=Q1-1.5*iqr\n",
    "upplim=Q3+1.5*iqr\n",
    "print(lowlim)\n",
    "print(upplim)"
   ]
  },
  {
   "cell_type": "code",
   "execution_count": 16,
   "id": "00c33fa2-9787-4ecb-bd08-4d6466b24265",
   "metadata": {},
   "outputs": [],
   "source": [
    "from feature_engine.outliers import ArbitraryOutlierCapper\n",
    "arb=ArbitraryOutlierCapper(min_capping_dict={'bmi':13.6749},max_capping_dict={'bmi':47.315})\n",
    "df[['bmi']]=arb.fit_transform(df[['bmi']])"
   ]
  },
  {
   "cell_type": "code",
   "execution_count": 17,
   "id": "41b3b004-4506-4c0f-95ac-0bf6f4282262",
   "metadata": {},
   "outputs": [],
   "source": [
    "from feature_engine.outliers import ArbitraryOutlierCapper\n",
    "arb=ArbitraryOutlierCapper(min_capping_dict={'bmi':13.6749},max_capping_dict={'bmi':47.315})\n",
    "df[['bmi']]=arb.fit_transform(df[['bmi']])"
   ]
  },
  {
   "cell_type": "code",
   "execution_count": 18,
   "id": "10e7e325-d1fd-4090-8e96-18c152e4b500",
   "metadata": {},
   "outputs": [
    {
     "data": {
      "text/plain": [
       "<Axes: ylabel='bmi'>"
      ]
     },
     "execution_count": 18,
     "metadata": {},
     "output_type": "execute_result"
    },
    {
     "data": {
      "image/png": "[encoded data removed]",
      "text/plain": [
       "<Figure size 640x480 with 1 Axes>"
      ]
     },
     "metadata": {},
     "output_type": "display_data"
    }
   ],
   "source": [
    "sns.boxplot(df['bmi'])"
   ]
  },
  {
   "cell_type": "code",
   "execution_count": 19,
   "id": "7d5b33a6-d16e-4623-81e5-2bec5791a961",
   "metadata": {},
   "outputs": [
    {
     "data": {
      "text/plain": [
       "0.23289153320569975"
      ]
     },
     "execution_count": 19,
     "metadata": {},
     "output_type": "execute_result"
    }
   ],
   "source": [
    "df['bmi'].skew()"
   ]
  },
  {
   "cell_type": "code",
   "execution_count": 20,
   "id": "4ce82fc8-de22-4910-b2a4-430bf16930fc",
   "metadata": {},
   "outputs": [
    {
     "data": {
      "text/plain": [
       "0.054780773126998195"
      ]
     },
     "execution_count": 20,
     "metadata": {},
     "output_type": "execute_result"
    }
   ],
   "source": [
    "df['age'].skew()"
   ]
  },
  {
   "cell_type": "code",
   "execution_count": 21,
   "id": "db14c58a-7987-45bd-aca0-325ad2943052",
   "metadata": {},
   "outputs": [],
   "source": [
    "df['sex']=df['sex'].map({'male':0,'female':1})"
   ]
  },
  {
   "cell_type": "code",
   "execution_count": 22,
   "id": "aad64221-d97f-4e34-8f20-cd8796a47920",
   "metadata": {},
   "outputs": [],
   "source": [
    "df['smoker']=df['smoker'].map({'yes':1,'no':0})"
   ]
  },
  {
   "cell_type": "code",
   "execution_count": 23,
   "id": "09156d85-f6f8-4bb3-9711-108e62edaaac",
   "metadata": {},
   "outputs": [],
   "source": [
    "df['region']=df['region'].map({'northwest':0, 'northeast':1,'southeast':2,'southwest':3})"
   ]
  },
  {
   "cell_type": "code",
   "execution_count": 24,
   "id": "3c97e5a4-29ba-40c5-8927-9574f07284f2",
   "metadata": {},
   "outputs": [
    {
     "data": {
      "text/html": [
       "<div>\n",
       "<style scoped>\n",
       "    .dataframe tbody tr th:only-of-type {\n",
       "        vertical-align: middle;\n",
       "    }\n",
       "\n",
       "    .dataframe tbody tr th {\n",
       "        vertical-align: top;\n",
       "    }\n",
       "\n",
       "    .dataframe thead th {\n",
       "        text-align: right;\n",
       "    }\n",
       "</style>\n",
       "<table border=\"1\" class=\"dataframe\">\n",
       "  <thead>\n",
       "    <tr style=\"text-align: right;\">\n",
       "      <th></th>\n",
       "      <th>age</th>\n",
       "      <th>sex</th>\n",
       "      <th>bmi</th>\n",
       "      <th>children</th>\n",
       "      <th>smoker</th>\n",
       "      <th>region</th>\n",
       "      <th>charges</th>\n",
       "    </tr>\n",
       "  </thead>\n",
       "  <tbody>\n",
       "    <tr>\n",
       "      <th>0</th>\n",
       "      <td>19</td>\n",
       "      <td>1</td>\n",
       "      <td>27.900</td>\n",
       "      <td>0</td>\n",
       "      <td>1</td>\n",
       "      <td>3</td>\n",
       "      <td>16884.92400</td>\n",
       "    </tr>\n",
       "    <tr>\n",
       "      <th>1</th>\n",
       "      <td>18</td>\n",
       "      <td>0</td>\n",
       "      <td>33.770</td>\n",
       "      <td>1</td>\n",
       "      <td>0</td>\n",
       "      <td>2</td>\n",
       "      <td>1725.55230</td>\n",
       "    </tr>\n",
       "    <tr>\n",
       "      <th>2</th>\n",
       "      <td>28</td>\n",
       "      <td>0</td>\n",
       "      <td>33.000</td>\n",
       "      <td>3</td>\n",
       "      <td>0</td>\n",
       "      <td>2</td>\n",
       "      <td>4449.46200</td>\n",
       "    </tr>\n",
       "    <tr>\n",
       "      <th>3</th>\n",
       "      <td>33</td>\n",
       "      <td>0</td>\n",
       "      <td>22.705</td>\n",
       "      <td>0</td>\n",
       "      <td>0</td>\n",
       "      <td>0</td>\n",
       "      <td>21984.47061</td>\n",
       "    </tr>\n",
       "    <tr>\n",
       "      <th>4</th>\n",
       "      <td>32</td>\n",
       "      <td>0</td>\n",
       "      <td>28.880</td>\n",
       "      <td>0</td>\n",
       "      <td>0</td>\n",
       "      <td>0</td>\n",
       "      <td>3866.85520</td>\n",
       "    </tr>\n",
       "    <tr>\n",
       "      <th>...</th>\n",
       "      <td>...</td>\n",
       "      <td>...</td>\n",
       "      <td>...</td>\n",
       "      <td>...</td>\n",
       "      <td>...</td>\n",
       "      <td>...</td>\n",
       "      <td>...</td>\n",
       "    </tr>\n",
       "    <tr>\n",
       "      <th>1333</th>\n",
       "      <td>50</td>\n",
       "      <td>0</td>\n",
       "      <td>30.970</td>\n",
       "      <td>3</td>\n",
       "      <td>0</td>\n",
       "      <td>0</td>\n",
       "      <td>10600.54830</td>\n",
       "    </tr>\n",
       "    <tr>\n",
       "      <th>1334</th>\n",
       "      <td>18</td>\n",
       "      <td>1</td>\n",
       "      <td>31.920</td>\n",
       "      <td>0</td>\n",
       "      <td>0</td>\n",
       "      <td>1</td>\n",
       "      <td>2205.98080</td>\n",
       "    </tr>\n",
       "    <tr>\n",
       "      <th>1335</th>\n",
       "      <td>18</td>\n",
       "      <td>1</td>\n",
       "      <td>36.850</td>\n",
       "      <td>0</td>\n",
       "      <td>0</td>\n",
       "      <td>2</td>\n",
       "      <td>1629.83350</td>\n",
       "    </tr>\n",
       "    <tr>\n",
       "      <th>1336</th>\n",
       "      <td>21</td>\n",
       "      <td>1</td>\n",
       "      <td>25.800</td>\n",
       "      <td>0</td>\n",
       "      <td>0</td>\n",
       "      <td>3</td>\n",
       "      <td>2007.94500</td>\n",
       "    </tr>\n",
       "    <tr>\n",
       "      <th>1337</th>\n",
       "      <td>61</td>\n",
       "      <td>1</td>\n",
       "      <td>29.070</td>\n",
       "      <td>0</td>\n",
       "      <td>1</td>\n",
       "      <td>0</td>\n",
       "      <td>29141.36030</td>\n",
       "    </tr>\n",
       "  </tbody>\n",
       "</table>\n",
       "<p>1337 rows × 7 columns</p>\n",
       "</div>"
      ],
      "text/plain": [
       "      age  sex     bmi  children  smoker  region      charges\n",
       "0      19    1  27.900         0       1       3  16884.92400\n",
       "1      18    0  33.770         1       0       2   1725.55230\n",
       "2      28    0  33.000         3       0       2   4449.46200\n",
       "3      33    0  22.705         0       0       0  21984.47061\n",
       "4      32    0  28.880         0       0       0   3866.85520\n",
       "...   ...  ...     ...       ...     ...     ...          ...\n",
       "1333   50    0  30.970         3       0       0  10600.54830\n",
       "1334   18    1  31.920         0       0       1   2205.98080\n",
       "1335   18    1  36.850         0       0       2   1629.83350\n",
       "1336   21    1  25.800         0       0       3   2007.94500\n",
       "1337   61    1  29.070         0       1       0  29141.36030\n",
       "\n",
       "[1337 rows x 7 columns]"
      ]
     },
     "execution_count": 24,
     "metadata": {},
     "output_type": "execute_result"
    }
   ],
   "source": [
    "df"
   ]
  },
  {
   "cell_type": "code",
   "execution_count": 25,
   "id": "53906e00-13cd-40f9-a811-2cbf4e717160",
   "metadata": {},
   "outputs": [
    {
     "data": {
      "text/plain": [
       "<Axes: >"
      ]
     },
     "execution_count": 25,
     "metadata": {},
     "output_type": "execute_result"
    },
    {
     "data": {
      "image/png": "[encoded data removed]",
      "text/plain": [
       "<Figure size 640x480 with 2 Axes>"
      ]
     },
     "metadata": {},
     "output_type": "display_data"
    }
   ],
   "source": [
    "sns.heatmap(df.corr(),annot=True)"
   ]
  },
  {
   "cell_type": "code",
   "execution_count": 26,
   "id": "d358cb94-0d9e-4436-ba4f-17448b79d011",
   "metadata": {},
   "outputs": [],
   "source": [
    "X=df.drop(['charges'],axis=1)\n",
    "Y=df[['charges']]"
   ]
  },
  {
   "cell_type": "code",
   "execution_count": 27,
   "id": "d4226942-5997-4fd9-bdaa-606e90a2fba1",
   "metadata": {},
   "outputs": [
    {
     "name": "stdout",
     "output_type": "stream",
     "text": [
      "Requirement already satisfied: xgboost in c:\\users\\yasmeen\\appdata\\local\\programs\\python\\python312\\lib\\site-packages (2.0.3)Note: you may need to restart the kernel to use updated packages.\n",
      "\n",
      "Requirement already satisfied: numpy in c:\\users\\yasmeen\\appdata\\local\\programs\\python\\python312\\lib\\site-packages (from xgboost) (1.26.4)\n",
      "Requirement already satisfied: scipy in c:\\users\\yasmeen\\appdata\\local\\programs\\python\\python312\\lib\\site-packages (from xgboost) (1.12.0)\n"
     ]
    }
   ],
   "source": [
    "pip install xgboost"
   ]
  },
  {
   "cell_type": "code",
   "execution_count": 28,
   "id": "ed082140-3d35-4d0e-b256-862a8fcabd19",
   "metadata": {},
   "outputs": [],
   "source": [
    "from sklearn.linear_model import LinearRegression,Lasso\n",
    "from sklearn.svm import SVR\n",
    "from sklearn.ensemble import RandomForestRegressor\n",
    "from sklearn.ensemble import GradientBoostingRegressor\n",
    "from xgboost import XGBRegressor"
   ]
  },
  {
   "cell_type": "code",
   "execution_count": 29,
   "id": "35b5b91d-b0f5-4643-9fab-c31233998c63",
   "metadata": {},
   "outputs": [],
   "source": [
    "from sklearn.model_selection import train_test_split\n",
    "from sklearn.model_selection import cross_val_score\n",
    "l1=[]\n",
    "l2=[]\n",
    "l3=[]\n",
    "cvs=0\n",
    "for i in range(40,50):\n",
    " xtrain,xtest,ytrain,ytest=train_test_split(X,Y,test_size=0.2,random_state=i)\n",
    " lrmodel=LinearRegression()\n",
    " lrmodel.fit(xtrain,ytrain)\n",
    " l1.append(lrmodel.score(xtrain,ytrain))\n",
    " l2.append(lrmodel.score(xtest,ytest))\n",
    " cvs=(cross_val_score(lrmodel,X,Y,cv=5,)).mean()\n",
    " l3.append(cvs)\n",
    " df1=pd.DataFrame({'train acc':l1,'test acc':l2,'cvs':l3})\n",
    " \n",
    " \n"
   ]
  },
  {
   "cell_type": "code",
   "execution_count": 30,
   "id": "48aef100-9f91-4e46-82d5-e4e6af8eb260",
   "metadata": {},
   "outputs": [
    {
     "data": {
      "text/html": [
       "<div>\n",
       "<style scoped>\n",
       "    .dataframe tbody tr th:only-of-type {\n",
       "        vertical-align: middle;\n",
       "    }\n",
       "\n",
       "    .dataframe tbody tr th {\n",
       "        vertical-align: top;\n",
       "    }\n",
       "\n",
       "    .dataframe thead th {\n",
       "        text-align: right;\n",
       "    }\n",
       "</style>\n",
       "<table border=\"1\" class=\"dataframe\">\n",
       "  <thead>\n",
       "    <tr style=\"text-align: right;\">\n",
       "      <th></th>\n",
       "      <th>train acc</th>\n",
       "      <th>test acc</th>\n",
       "      <th>cvs</th>\n",
       "    </tr>\n",
       "  </thead>\n",
       "  <tbody>\n",
       "    <tr>\n",
       "      <th>0</th>\n",
       "      <td>0.741659</td>\n",
       "      <td>0.778409</td>\n",
       "      <td>0.74707</td>\n",
       "    </tr>\n",
       "    <tr>\n",
       "      <th>1</th>\n",
       "      <td>0.756401</td>\n",
       "      <td>0.706267</td>\n",
       "      <td>0.74707</td>\n",
       "    </tr>\n",
       "    <tr>\n",
       "      <th>2</th>\n",
       "      <td>0.729542</td>\n",
       "      <td>0.806239</td>\n",
       "      <td>0.74707</td>\n",
       "    </tr>\n",
       "    <tr>\n",
       "      <th>3</th>\n",
       "      <td>0.754260</td>\n",
       "      <td>0.732791</td>\n",
       "      <td>0.74707</td>\n",
       "    </tr>\n",
       "    <tr>\n",
       "      <th>4</th>\n",
       "      <td>0.742966</td>\n",
       "      <td>0.779591</td>\n",
       "      <td>0.74707</td>\n",
       "    </tr>\n",
       "    <tr>\n",
       "      <th>5</th>\n",
       "      <td>0.753281</td>\n",
       "      <td>0.731769</td>\n",
       "      <td>0.74707</td>\n",
       "    </tr>\n",
       "    <tr>\n",
       "      <th>6</th>\n",
       "      <td>0.741261</td>\n",
       "      <td>0.776456</td>\n",
       "      <td>0.74707</td>\n",
       "    </tr>\n",
       "    <tr>\n",
       "      <th>7</th>\n",
       "      <td>0.731940</td>\n",
       "      <td>0.796173</td>\n",
       "      <td>0.74707</td>\n",
       "    </tr>\n",
       "    <tr>\n",
       "      <th>8</th>\n",
       "      <td>0.751915</td>\n",
       "      <td>0.741742</td>\n",
       "      <td>0.74707</td>\n",
       "    </tr>\n",
       "    <tr>\n",
       "      <th>9</th>\n",
       "      <td>0.756348</td>\n",
       "      <td>0.722565</td>\n",
       "      <td>0.74707</td>\n",
       "    </tr>\n",
       "  </tbody>\n",
       "</table>\n",
       "</div>"
      ],
      "text/plain": [
       "   train acc  test acc      cvs\n",
       "0   0.741659  0.778409  0.74707\n",
       "1   0.756401  0.706267  0.74707\n",
       "2   0.729542  0.806239  0.74707\n",
       "3   0.754260  0.732791  0.74707\n",
       "4   0.742966  0.779591  0.74707\n",
       "5   0.753281  0.731769  0.74707\n",
       "6   0.741261  0.776456  0.74707\n",
       "7   0.731940  0.796173  0.74707\n",
       "8   0.751915  0.741742  0.74707\n",
       "9   0.756348  0.722565  0.74707"
      ]
     },
     "execution_count": 30,
     "metadata": {},
     "output_type": "execute_result"
    }
   ],
   "source": [
    "df1"
   ]
  },
  {
   "cell_type": "code",
   "execution_count": 31,
   "id": "68356111-37c0-4e3b-bb87-a3f59ebac025",
   "metadata": {},
   "outputs": [],
   "source": [
    "#best random state=42"
   ]
  },
  {
   "cell_type": "code",
   "execution_count": 32,
   "id": "fab2372e-b6de-45cb-ae5a-29e84200ac2c",
   "metadata": {},
   "outputs": [
    {
     "name": "stdout",
     "output_type": "stream",
     "text": [
      "0.7295415541376447\n",
      "0.8062391115570589\n",
      "0.7470697972809902\n"
     ]
    }
   ],
   "source": [
    "xtrain,xtest,ytrain,ytest=train_test_split(X,Y,test_size=0.2,random_state=42)\n",
    "lrmodel=LinearRegression()\n",
    "lrmodel.fit(xtrain,ytrain)\n",
    "print(lrmodel.score(xtrain,ytrain))\n",
    "print(lrmodel.score(xtest,ytest))\n",
    "print(cross_val_score(lrmodel,X,Y,cv=5,).mean())\n",
    "\n"
   ]
  },
  {
   "cell_type": "code",
   "execution_count": 33,
   "id": "e127f7fd-4a4c-448a-b62d-f8f7183ba605",
   "metadata": {},
   "outputs": [
    {
     "name": "stdout",
     "output_type": "stream",
     "text": [
      "-0.10151474302536445\n",
      "-0.1344454720199666\n",
      "-0.10374591327267262\n"
     ]
    }
   ],
   "source": [
    "from sklearn.metrics import r2_score\n",
    "svrmodel=SVR()\n",
    "svrmodel.fit(xtrain,ytrain)\n",
    "ypredtrain1=svrmodel.predict(xtrain)\n",
    "ypredtest1=svrmodel.predict(xtest)\n",
    "print(r2_score(ytrain,ypredtrain1))\n",
    "print(r2_score(ytest,ypredtest1))\n",
    "print(cross_val_score(svrmodel,X,Y,cv=5,).mean())\n"
   ]
  },
  {
   "cell_type": "code",
   "execution_count": 34,
   "id": "ac5ca9be-1a63-4cb1-ab58-b23d3a8bf287",
   "metadata": {},
   "outputs": [
    {
     "name": "stdout",
     "output_type": "stream",
     "text": [
      "0.9738163260247533\n",
      "0.8819423353068565\n",
      "0.8363637309718952\n"
     ]
    }
   ],
   "source": [
    "rfmodel=RandomForestRegressor(random_state=42)\n",
    "rfmodel.fit(xtrain,ytrain)\n",
    "ypredtrain2=rfmodel.predict(xtrain)\n",
    "ypredtest2=rfmodel.predict(xtest)\n",
    "print(r2_score(ytrain,ypredtrain2))\n",
    "print(r2_score(ytest,ypredtest2))\n",
    "print(cross_val_score(rfmodel,X,Y,cv=5,).mean())\n"
   ]
  },
  {
   "cell_type": "code",
   "execution_count": 35,
   "id": "e799cc4d-b725-4db2-a767-e10638854d8a",
   "metadata": {},
   "outputs": [
    {
     "name": "stdout",
     "output_type": "stream",
     "text": [
      "0.8931345821166041\n",
      "0.9042621984928142\n",
      "0.8550397479537928\n"
     ]
    }
   ],
   "source": [
    "gbmodel=GradientBoostingRegressor()\n",
    "gbmodel.fit(xtrain,ytrain)\n",
    "ypredtrain3=gbmodel.predict(xtrain)\n",
    "ypredtest3=gbmodel.predict(xtest)\n",
    "print(r2_score(ytrain,ypredtrain3))\n",
    "print(r2_score(ytest,ypredtest3))\n",
    "print(cross_val_score(gbmodel,X,Y,cv=5,).mean())\n",
    "\n"
   ]
  },
  {
   "cell_type": "code",
   "execution_count": 36,
   "id": "40d6a3a6-8e10-47b4-9a98-3a943201d8d3",
   "metadata": {},
   "outputs": [
    {
     "name": "stdout",
     "output_type": "stream",
     "text": [
      "0.9954123497078247\n",
      "0.8548937785039912\n",
      "0.808125309217053\n"
     ]
    }
   ],
   "source": [
    "xgmodel=XGBRegressor()\n",
    "xgmodel.fit(xtrain,ytrain)\n",
    "ypredtrain4=xgmodel.predict(xtrain)\n",
    "ypredtest4=xgmodel.predict(xtest)\n",
    "print(r2_score(ytrain,ypredtrain4))\n",
    "print(r2_score(ytest,ypredtest4))\n",
    "print(cross_val_score(xgmodel,X,Y,cv=5,).mean())\n"
   ]
  },
  {
   "cell_type": "code",
   "execution_count": 37,
   "id": "b248430b-ccd6-4c83-a2a9-a0026374b44c",
   "metadata": {},
   "outputs": [
    {
     "data": {
      "text/plain": [
       "{'n_estimators': 120}"
      ]
     },
     "execution_count": 37,
     "metadata": {},
     "output_type": "execute_result"
    }
   ],
   "source": [
    "from sklearn.model_selection import GridSearchCV\n",
    "estimator=RandomForestRegressor(random_state=42)\n",
    "param_grid={'n_estimators':[10,40,50,98,100,120,150]}\n",
    "grid=GridSearchCV(estimator,param_grid,scoring=\"r2\",cv=5)\n",
    "grid.fit(xtrain,ytrain)\n",
    "grid.best_params_"
   ]
  },
  {
   "cell_type": "code",
   "execution_count": 38,
   "id": "1b768885-bbdd-4a57-be0c-c632d0b5ee7c",
   "metadata": {},
   "outputs": [
    {
     "name": "stdout",
     "output_type": "stream",
     "text": [
      "0.9746383984429655\n",
      "0.8822009842175969\n",
      "0.8367438097052858\n"
     ]
    }
   ],
   "source": [
    "rfmodel=RandomForestRegressor(random_state=42,n_estimators=120)\n",
    "rfmodel.fit(xtrain,ytrain)\n",
    "ypredtrain2=rfmodel.predict(xtrain)\n",
    "ypredtest2=rfmodel.predict(xtest)\n",
    "print(r2_score(ytrain,ypredtrain2))\n",
    "print(r2_score(ytest,ypredtest2))\n",
    "print(cross_val_score(rfmodel,X,Y,cv=5,).mean())"
   ]
  },
  {
   "cell_type": "code",
   "execution_count": 39,
   "id": "41db0ad2-eba2-4138-99a4-bc5ee48c6241",
   "metadata": {},
   "outputs": [
    {
     "data": {
      "text/plain": [
       "{'learning_rate': 0.2, 'n_estimators': 19}"
      ]
     },
     "execution_count": 39,
     "metadata": {},
     "output_type": "execute_result"
    }
   ],
   "source": [
    "from sklearn.model_selection import GridSearchCV\n",
    "estimator=GradientBoostingRegressor()\n",
    "param_grid={'n_estimators':[10,15,19,20,21,50],'learning_rate':[0.1,0.19,0.2,0.21,0.8,1]}\n",
    "grid=GridSearchCV(estimator,param_grid,scoring=\"r2\",cv=5)\n",
    "grid.fit(xtrain,ytrain)\n",
    "grid.best_params_"
   ]
  },
  {
   "cell_type": "code",
   "execution_count": 40,
   "id": "511fd6c4-b26a-4b41-8129-a01bee41d25a",
   "metadata": {},
   "outputs": [
    {
     "name": "stdout",
     "output_type": "stream",
     "text": [
      "0.8682397447116927\n",
      "0.9017109716082661\n",
      "0.86051471152677\n"
     ]
    }
   ],
   "source": [
    "gbmodel=GradientBoostingRegressor(n_estimators=19,learning_rate=0.2)\n",
    "gbmodel.fit(xtrain,ytrain)\n",
    "ypredtrain3=gbmodel.predict(xtrain)\n",
    "ypredtest3=gbmodel.predict(xtest)\n",
    "print(r2_score(ytrain,ypredtrain3))\n",
    "print(r2_score(ytest,ypredtest3))\n",
    "print(cross_val_score(gbmodel,X,Y,cv=5,).mean())"
   ]
  },
  {
   "cell_type": "code",
   "execution_count": 41,
   "id": "f7e6acf7-394d-4b10-9381-b77720c5e5c0",
   "metadata": {},
   "outputs": [
    {
     "data": {
      "text/plain": [
       "{'gamma': 0, 'max_depth': 3, 'n_estimators': 10}"
      ]
     },
     "execution_count": 41,
     "metadata": {},
     "output_type": "execute_result"
    }
   ],
   "source": [
    "from sklearn.model_selection import GridSearchCV\n",
    "estimator=XGBRegressor()\n",
    "param_grid={'n_estimators':[10,15,20,40,50],'max_depth':[3,4,5],'gamma':[0,0.15,0.3,0.5,1]}\n",
    "grid=GridSearchCV(estimator,param_grid,scoring=\"r2\",cv=5)\n",
    "grid.fit(xtrain,ytrain)\n",
    "grid.best_params_"
   ]
  },
  {
   "cell_type": "code",
   "execution_count": 42,
   "id": "54d7ce1c-f6e1-4457-aa92-21eb95b4efa7",
   "metadata": {},
   "outputs": [
    {
     "name": "stdout",
     "output_type": "stream",
     "text": [
      "0.8693173313051628\n",
      "0.9022460881213404\n",
      "0.8607115291219747\n"
     ]
    }
   ],
   "source": [
    "xgmodel=XGBRegressor(n_estimators=15,max_depth=3,gamma=0)\n",
    "xgmodel.fit(xtrain,ytrain)\n",
    "ypredtrain4=xgmodel.predict(xtrain)\n",
    "ypredtest4=xgmodel.predict(xtest)\n",
    "print(r2_score(ytrain,ypredtrain4))\n",
    "print(r2_score(ytest,ypredtest4))\n",
    "print(cross_val_score(xgmodel,X,Y,cv=5,).mean())"
   ]
  },
  {
   "cell_type": "code",
   "execution_count": 43,
   "id": "bcd88207-2b8a-4f9d-a986-95c257652fe8",
   "metadata": {},
   "outputs": [
    {
     "data": {
      "text/plain": [
       "array([0.03863284, 0.        , 0.13344938, 0.01107316, 0.8096257 ,\n",
       "       0.00721902], dtype=float32)"
      ]
     },
     "execution_count": 43,
     "metadata": {},
     "output_type": "execute_result"
    }
   ],
   "source": [
    "grid.best_estimator_.feature_importances_"
   ]
  },
  {
   "cell_type": "code",
   "execution_count": 44,
   "id": "654ea7f3-bc3b-4111-8a0f-80d5cc3bbf9a",
   "metadata": {},
   "outputs": [
    {
     "data": {
      "text/html": [
       "<div>\n",
       "<style scoped>\n",
       "    .dataframe tbody tr th:only-of-type {\n",
       "        vertical-align: middle;\n",
       "    }\n",
       "\n",
       "    .dataframe tbody tr th {\n",
       "        vertical-align: top;\n",
       "    }\n",
       "\n",
       "    .dataframe thead th {\n",
       "        text-align: right;\n",
       "    }\n",
       "</style>\n",
       "<table border=\"1\" class=\"dataframe\">\n",
       "  <thead>\n",
       "    <tr style=\"text-align: right;\">\n",
       "      <th></th>\n",
       "      <th>Importance</th>\n",
       "    </tr>\n",
       "  </thead>\n",
       "  <tbody>\n",
       "    <tr>\n",
       "      <th>age</th>\n",
       "      <td>0.038633</td>\n",
       "    </tr>\n",
       "    <tr>\n",
       "      <th>sex</th>\n",
       "      <td>0.000000</td>\n",
       "    </tr>\n",
       "    <tr>\n",
       "      <th>bmi</th>\n",
       "      <td>0.133449</td>\n",
       "    </tr>\n",
       "    <tr>\n",
       "      <th>children</th>\n",
       "      <td>0.011073</td>\n",
       "    </tr>\n",
       "    <tr>\n",
       "      <th>smoker</th>\n",
       "      <td>0.809626</td>\n",
       "    </tr>\n",
       "    <tr>\n",
       "      <th>region</th>\n",
       "      <td>0.007219</td>\n",
       "    </tr>\n",
       "  </tbody>\n",
       "</table>\n",
       "</div>"
      ],
      "text/plain": [
       "          Importance\n",
       "age         0.038633\n",
       "sex         0.000000\n",
       "bmi         0.133449\n",
       "children    0.011073\n",
       "smoker      0.809626\n",
       "region      0.007219"
      ]
     },
     "execution_count": 44,
     "metadata": {},
     "output_type": "execute_result"
    }
   ],
   "source": [
    "feats=pd.DataFrame(data=grid.best_estimator_.feature_importances_,index=X.columns,columns=['Importance'])\n",
    "feats"
   ]
  },
  {
   "cell_type": "code",
   "execution_count": 45,
   "id": "32f9eeec-9886-4a12-a02a-81f17dd4033e",
   "metadata": {},
   "outputs": [
    {
     "data": {
      "text/html": [
       "<div>\n",
       "<style scoped>\n",
       "    .dataframe tbody tr th:only-of-type {\n",
       "        vertical-align: middle;\n",
       "    }\n",
       "\n",
       "    .dataframe tbody tr th {\n",
       "        vertical-align: top;\n",
       "    }\n",
       "\n",
       "    .dataframe thead th {\n",
       "        text-align: right;\n",
       "    }\n",
       "</style>\n",
       "<table border=\"1\" class=\"dataframe\">\n",
       "  <thead>\n",
       "    <tr style=\"text-align: right;\">\n",
       "      <th></th>\n",
       "      <th>Importance</th>\n",
       "    </tr>\n",
       "  </thead>\n",
       "  <tbody>\n",
       "    <tr>\n",
       "      <th>age</th>\n",
       "      <td>0.038633</td>\n",
       "    </tr>\n",
       "    <tr>\n",
       "      <th>bmi</th>\n",
       "      <td>0.133449</td>\n",
       "    </tr>\n",
       "    <tr>\n",
       "      <th>children</th>\n",
       "      <td>0.011073</td>\n",
       "    </tr>\n",
       "    <tr>\n",
       "      <th>smoker</th>\n",
       "      <td>0.809626</td>\n",
       "    </tr>\n",
       "  </tbody>\n",
       "</table>\n",
       "</div>"
      ],
      "text/plain": [
       "          Importance\n",
       "age         0.038633\n",
       "bmi         0.133449\n",
       "children    0.011073\n",
       "smoker      0.809626"
      ]
     },
     "execution_count": 45,
     "metadata": {},
     "output_type": "execute_result"
    }
   ],
   "source": [
    "important_features=feats[feats['Importance']>0.01]\n",
    "important_features"
   ]
  },
  {
   "cell_type": "code",
   "execution_count": 46,
   "id": "dc8c37e0-7804-4e8c-ac96-615ef52f98cf",
   "metadata": {},
   "outputs": [],
   "source": [
    "#FINAL MODEL\n",
    "df.drop(df[['sex','region']],axis=1,inplace=True)\n",
    "\n"
   ]
  },
  {
   "cell_type": "code",
   "execution_count": 47,
   "id": "335cbece-929c-4970-bb15-4e51b0174a90",
   "metadata": {},
   "outputs": [],
   "source": [
    "Xf=df.drop(df[['charges']],axis=1)"
   ]
  },
  {
   "cell_type": "code",
   "execution_count": 48,
   "id": "4c837788-75aa-41ae-9289-b507820ccd33",
   "metadata": {},
   "outputs": [
    {
     "data": {
      "text/html": [
       "<div>\n",
       "<style scoped>\n",
       "    .dataframe tbody tr th:only-of-type {\n",
       "        vertical-align: middle;\n",
       "    }\n",
       "\n",
       "    .dataframe tbody tr th {\n",
       "        vertical-align: top;\n",
       "    }\n",
       "\n",
       "    .dataframe thead th {\n",
       "        text-align: right;\n",
       "    }\n",
       "</style>\n",
       "<table border=\"1\" class=\"dataframe\">\n",
       "  <thead>\n",
       "    <tr style=\"text-align: right;\">\n",
       "      <th></th>\n",
       "      <th>age</th>\n",
       "      <th>bmi</th>\n",
       "      <th>children</th>\n",
       "      <th>smoker</th>\n",
       "    </tr>\n",
       "  </thead>\n",
       "  <tbody>\n",
       "    <tr>\n",
       "      <th>0</th>\n",
       "      <td>19</td>\n",
       "      <td>27.900</td>\n",
       "      <td>0</td>\n",
       "      <td>1</td>\n",
       "    </tr>\n",
       "    <tr>\n",
       "      <th>1</th>\n",
       "      <td>18</td>\n",
       "      <td>33.770</td>\n",
       "      <td>1</td>\n",
       "      <td>0</td>\n",
       "    </tr>\n",
       "    <tr>\n",
       "      <th>2</th>\n",
       "      <td>28</td>\n",
       "      <td>33.000</td>\n",
       "      <td>3</td>\n",
       "      <td>0</td>\n",
       "    </tr>\n",
       "    <tr>\n",
       "      <th>3</th>\n",
       "      <td>33</td>\n",
       "      <td>22.705</td>\n",
       "      <td>0</td>\n",
       "      <td>0</td>\n",
       "    </tr>\n",
       "    <tr>\n",
       "      <th>4</th>\n",
       "      <td>32</td>\n",
       "      <td>28.880</td>\n",
       "      <td>0</td>\n",
       "      <td>0</td>\n",
       "    </tr>\n",
       "    <tr>\n",
       "      <th>...</th>\n",
       "      <td>...</td>\n",
       "      <td>...</td>\n",
       "      <td>...</td>\n",
       "      <td>...</td>\n",
       "    </tr>\n",
       "    <tr>\n",
       "      <th>1333</th>\n",
       "      <td>50</td>\n",
       "      <td>30.970</td>\n",
       "      <td>3</td>\n",
       "      <td>0</td>\n",
       "    </tr>\n",
       "    <tr>\n",
       "      <th>1334</th>\n",
       "      <td>18</td>\n",
       "      <td>31.920</td>\n",
       "      <td>0</td>\n",
       "      <td>0</td>\n",
       "    </tr>\n",
       "    <tr>\n",
       "      <th>1335</th>\n",
       "      <td>18</td>\n",
       "      <td>36.850</td>\n",
       "      <td>0</td>\n",
       "      <td>0</td>\n",
       "    </tr>\n",
       "    <tr>\n",
       "      <th>1336</th>\n",
       "      <td>21</td>\n",
       "      <td>25.800</td>\n",
       "      <td>0</td>\n",
       "      <td>0</td>\n",
       "    </tr>\n",
       "    <tr>\n",
       "      <th>1337</th>\n",
       "      <td>61</td>\n",
       "      <td>29.070</td>\n",
       "      <td>0</td>\n",
       "      <td>1</td>\n",
       "    </tr>\n",
       "  </tbody>\n",
       "</table>\n",
       "<p>1337 rows × 4 columns</p>\n",
       "</div>"
      ],
      "text/plain": [
       "      age     bmi  children  smoker\n",
       "0      19  27.900         0       1\n",
       "1      18  33.770         1       0\n",
       "2      28  33.000         3       0\n",
       "3      33  22.705         0       0\n",
       "4      32  28.880         0       0\n",
       "...   ...     ...       ...     ...\n",
       "1333   50  30.970         3       0\n",
       "1334   18  31.920         0       0\n",
       "1335   18  36.850         0       0\n",
       "1336   21  25.800         0       0\n",
       "1337   61  29.070         0       1\n",
       "\n",
       "[1337 rows x 4 columns]"
      ]
     },
     "execution_count": 48,
     "metadata": {},
     "output_type": "execute_result"
    }
   ],
   "source": [
    "Xf"
   ]
  },
  {
   "cell_type": "code",
   "execution_count": 49,
   "id": "b2f4869d-180e-498e-ace4-2942e79a1d1f",
   "metadata": {},
   "outputs": [
    {
     "name": "stdout",
     "output_type": "stream",
     "text": [
      "0.869105118970057\n",
      "0.9007425513499979\n",
      "0.8606266871712276\n"
     ]
    }
   ],
   "source": [
    "X=df.drop(df[['charges']],axis=1)\n",
    "xtrain,xtest,ytrain,ytest=train_test_split(Xf,Y,test_size=0.2,random_state=42)\n",
    "finalmodel=XGBRegressor(n_estimators=15,max_depth=3,gamma=0)\n",
    "finalmodel.fit(xtrain,ytrain)\n",
    "ypredtrain4=finalmodel.predict(xtrain)\n",
    "ypredtest4=finalmodel.predict(xtest)\n",
    "print(r2_score(ytrain,ypredtrain4))\n",
    "print(r2_score(ytest,ypredtest4))\n",
    "print(cross_val_score(finalmodel,X,Y,cv=5,).mean())"
   ]
  },
  {
   "cell_type": "code",
   "execution_count": 50,
   "id": "c4011dbd-f93f-4e38-b110-fc0074bb614f",
   "metadata": {},
   "outputs": [],
   "source": [
    "new_data=pd.DataFrame({'age':19,'sex':'male','bmi':27.9,'children':0,'smoker':'yes','region':'northeast'},index=[1])\n",
    "new_data['smoker']=new_data['smoker'].map({'yes':1,'no':0})\n",
    "new_data=new_data.drop(new_data[['sex','region']],axis=1)"
   ]
  },
  {
   "cell_type": "code",
   "execution_count": 51,
   "id": "f9dbac7b-07ec-41b2-973e-b25802508cf2",
   "metadata": {},
   "outputs": [
    {
     "data": {
      "text/plain": [
       "array([18035.828], dtype=float32)"
      ]
     },
     "execution_count": 51,
     "metadata": {},
     "output_type": "execute_result"
    }
   ],
   "source": [
    "finalmodel.predict(new_data)"
   ]
  },
  {
   "cell_type": "code",
   "execution_count": 52,
   "id": "c67dcfb2-3725-42f5-9434-6097960ff80e",
   "metadata": {},
   "outputs": [],
   "source": [
    "from pickle import dump\n",
    "dump(finalmodel,open('insurancemodelf.pkl','wb'))"
   ]
  }
 ],
 "metadata": {
  "kernelspec": {
   "display_name": "Python 3 (ipykernel)",
   "language": "python",
   "name": "python3"
  },
  "language_info": {
   "codemirror_mode": {
    "name": "ipython",
    "version": 3
   },
   "file_extension": ".py",
   "mimetype": "text/x-python",
   "name": "python",
   "nbconvert_exporter": "python",
   "pygments_lexer": "ipython3",
   "version": "3.12.2"
  }
 },
 "nbformat": 4,
 "nbformat_minor": 5
}
