{
 "cells": [
  {
   "cell_type": "code",
   "execution_count": 1,
   "metadata": {},
   "outputs": [],
   "source": [
    "from tkinter import *;\n",
    "from pickle import load\n",
    "import pandas as pd"
   ]
  },
  {
   "cell_type": "code",
   "execution_count": null,
   "metadata": {},
   "outputs": [],
   "source": [
    "def show_entry():\n",
    "    p1=int(e1.get())\n",
    "    p2=float(e3.get())\n",
    "    p3=int(e4.get())\n",
    "    p4=int(e5.get())\n",
    "    model=load(open('insurancemodelf.pkl','rb'))\n",
    "    new_data=pd.DataFrame({'age':p1,'bmi':p2,'children':p3,'smoker':p4},index=[0])\n",
    "    cost=model.predict(new_data)\n",
    "    Label(master,text=\"insurance cost\").grid(row=7)\n",
    "    Label(master,text=cost).grid(row=8)\n",
    "master=Tk()\n",
    "master.title(\"Insurance cost prediction\")\n",
    "label=Label(master,text='Insurance cost prediction',bg=\"black\",fg=\"white\").grid(row=0,columnspan=2)\n",
    "Label(master,text = \"enter your age\").grid(row=1)\n",
    "Label(master,text=\"enter male or female\").grid(row=2)\n",
    "Label(master,text=\"enter your bmi value\").grid(row=3)\n",
    "Label(master,text=\"enter number of children\").grid(row=4)\n",
    "Label(master,text=\"smoker yes/no [1/0]\").grid(row=5)\n",
    "Label(master,text=\"enter your region\").grid(row=6)\n",
    "  \n",
    "e1=Entry(master)\n",
    "e2=Entry(master)\n",
    "e3=Entry(master)\n",
    "e4=Entry(master)\n",
    "e5=Entry(master)\n",
    "e6=Entry(master)\n",
    "e1.grid(row=1,column=1)\n",
    "e2.grid(row=2,column=1)\n",
    "e3.grid(row=3,column=1)\n",
    "e4.grid(row=4,column=1)\n",
    "e5.grid(row=5,column=1)\n",
    "e6.grid(row=6,column=1)\n",
    "Button(master,text='predict insurance cost',command=show_entry).grid()\n",
    "mainloop()"
   ]
  },
  {
   "cell_type": "code",
   "execution_count": null,
   "metadata": {},
   "outputs": [],
   "source": []
  }
 ],
 "metadata": {
  "kernelspec": {
   "display_name": "Python 3 (ipykernel)",
   "language": "python",
   "name": "python3"
  },
  "language_info": {
   "codemirror_mode": {
    "name": "ipython",
    "version": 3
   },
   "file_extension": ".py",
   "mimetype": "text/x-python",
   "name": "python",
   "nbconvert_exporter": "python",
   "pygments_lexer": "ipython3",
   "version": "3.12.2"
  }
 },
 "nbformat": 4,
 "nbformat_minor": 4
}
